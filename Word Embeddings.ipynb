{
 "cells": [
  {
   "cell_type": "markdown",
   "metadata": {
    "id": "AnIWSWCNaOgc"
   },
   "source": [
    "Problem\n",
    "--\n",
    "You want to implement word embeddings.\n",
    "\n",
    "Solution\n",
    "--\n",
    "Word embeddings are prediction based, and they use shallow neural networks to train the model that will lead to learning the weight and using them as a vector representation.\n",
    "\n",
    "<font color='green'>word2vec</font>\n",
    "--\n",
    "**word2vec** is the deep learning Google framework to train word embeddings. It will use all the words of the whole corpus and predict\n",
    "the nearby words. It will create a vector for all the words present in the\n",
    "corpus in a way so that the context is captured. It also outperforms any\n",
    "other methodologies in the space of word similarity and word analogies.\n",
    "\n",
    "There are mainly 2 types of word2vec Model.\n",
    "\n",
    "• Skip-Gram\n",
    "\n",
    "• Continuous Bag of Words (CBOW)"
   ]
  },
  {
   "cell_type": "markdown",
   "metadata": {
    "id": "zqmDRw1RaOgc"
   },
   "source": [
    "<img src=\"https://drive.google.com/uc?id=1ZC7kOYkuY2BGRCONWde38usTOCRJqJlR\"/>"
   ]
  },
  {
   "cell_type": "markdown",
   "metadata": {
    "id": "AsJ6785laOgd"
   },
   "source": [
    "The above figure shows the architecture of the CBOW and skip-gram\n",
    "algorithms used to build word embeddings. Let us see how these models\n",
    "work in detail.\n",
    "\n",
    "Skip-Gram\n",
    "--\n",
    "The skip-gram model is used to predict the probabilities of a word given the context of word or words.\n",
    "\n",
    "Let us take a small sentence and understand how it actually works.\n",
    "Each sentence will generate a target word and context, which are the words\n",
    "nearby. The number of words to be considered around the target variable\n",
    "is called the window size. The table below shows all the possible target\n",
    "and context variables for window size 2. Window size needs to be selected\n",
    "based on data and the resources at your disposal. The larger the window\n",
    "size, the higher the computing power."
   ]
  },
  {
   "cell_type": "markdown",
   "metadata": {
    "id": "lwTt4-BMaOge"
   },
   "source": [
    "<img src=\"https://drive.google.com/uc?id=18nKDL_JAX96Zs_ILGMrcdd517GWLwrW2\"/>"
   ]
  },
  {
   "cell_type": "markdown",
   "metadata": {
    "id": "FtDnwZltaOgf"
   },
   "source": [
    "Since it takes a lot of text and computing power, let us go ahead and take sample data and build a skip-gram model.\n",
    "\n",
    "As mentioned *in earlier NB's*, import the text corpus and break it into sentences. Perform **some cleaning and preprocessing** like the removal of\n",
    "punctuation and digits, and split the sentences into words or tokens, etc.\n"
   ]
  },
  {
   "cell_type": "code",
   "execution_count": 2,
   "metadata": {
    "colab": {
     "base_uri": "https://localhost:8080/"
    },
    "executionInfo": {
     "elapsed": 5311,
     "status": "ok",
     "timestamp": 1617962615840,
     "user": {
      "displayName": "Deepanshi Dhingra",
      "photoUrl": "",
      "userId": "04365067049605314564"
     },
     "user_tz": -330
    },
    "id": "f5sRLVEOaOgf",
    "outputId": "bd3a240e-9b58-4879-f446-37bebd992090"
   },
   "outputs": [
    {
     "name": "stdout",
     "output_type": "stream",
     "text": [
      "Collecting gensim\n",
      "  Downloading gensim-4.0.1-cp38-cp38-win_amd64.whl (23.9 MB)\n",
      "Requirement already satisfied: scipy>=0.18.1 in c:\\users\\91856\\anaconda3\\lib\\site-packages (from gensim) (1.5.0)\n",
      "Requirement already satisfied: smart-open>=1.8.1 in c:\\users\\91856\\anaconda3\\lib\\site-packages (from gensim) (3.0.0)\n",
      "Requirement already satisfied: numpy>=1.11.3 in c:\\users\\91856\\anaconda3\\lib\\site-packages (from gensim) (1.18.5)\n",
      "Collecting Cython==0.29.21\n",
      "  Downloading Cython-0.29.21-cp38-cp38-win_amd64.whl (1.7 MB)\n",
      "Requirement already satisfied: requests in c:\\users\\91856\\anaconda3\\lib\\site-packages (from smart-open>=1.8.1->gensim) (2.24.0)\n",
      "Requirement already satisfied: certifi>=2017.4.17 in c:\\users\\91856\\anaconda3\\lib\\site-packages (from requests->smart-open>=1.8.1->gensim) (2020.6.20)\n",
      "Requirement already satisfied: chardet<4,>=3.0.2 in c:\\users\\91856\\anaconda3\\lib\\site-packages (from requests->smart-open>=1.8.1->gensim) (3.0.4)\n",
      "Requirement already satisfied: urllib3!=1.25.0,!=1.25.1,<1.26,>=1.21.1 in c:\\users\\91856\\anaconda3\\lib\\site-packages (from requests->smart-open>=1.8.1->gensim) (1.25.9)\n",
      "Requirement already satisfied: idna<3,>=2.5 in c:\\users\\91856\\anaconda3\\lib\\site-packages (from requests->smart-open>=1.8.1->gensim) (2.10)\n",
      "Installing collected packages: Cython, gensim\n",
      "  Attempting uninstall: Cython\n",
      "    Found existing installation: Cython 0.29.17\n",
      "    Uninstalling Cython-0.29.17:\n",
      "      Successfully uninstalled Cython-0.29.17\n",
      "Successfully installed Cython-0.29.21 gensim-4.0.1\n"
     ]
    },
    {
     "name": "stderr",
     "output_type": "stream",
     "text": [
      "ERROR: pmdarima 1.7.1 has requirement Cython<0.29.18,>=0.29, but you'll have cython 0.29.21 which is incompatible.\n",
      "C:\\Users\\91856\\anaconda3\\lib\\site-packages\\gensim\\similarities\\__init__.py:15: UserWarning: The gensim.similarities.levenshtein submodule is disabled, because the optional Levenshtein package <https://pypi.org/project/python-Levenshtein/> is unavailable. Install Levenhstein (e.g. `pip install python-Levenshtein`) to suppress this warning.\n",
      "  warnings.warn(msg)\n"
     ]
    }
   ],
   "source": [
    "#Example sentences\n",
    "sentences = [['I', 'love', 'nlp'],\n",
    "['I', 'will', 'learn', 'nlp', 'in', '2','months'],\n",
    "['nlp', 'is', 'future'],\n",
    "[ 'nlp', 'saves', 'time', 'and', 'solves',\n",
    "'lot', 'of', 'industry', 'problems'],\n",
    "['nlp', 'uses', 'machine', 'learning']]\n",
    "\n",
    "#import library\n",
    "!pip install gensim\n",
    "import gensim\n",
    "from gensim.models import Word2Vec\n",
    "from sklearn.decomposition import PCA\n",
    "from matplotlib import pyplot\n"
   ]
  },
  {
   "cell_type": "code",
   "execution_count": 3,
   "metadata": {},
   "outputs": [
    {
     "name": "stdout",
     "output_type": "stream",
     "text": [
      "3\n",
      "7\n",
      "3\n",
      "9\n",
      "4\n"
     ]
    }
   ],
   "source": [
    "length=[]\n",
    "for i in sentences:\n",
    "    print(len(i))\n",
    "    length.append(len(i))"
   ]
  },
  {
   "cell_type": "code",
   "execution_count": 82,
   "metadata": {},
   "outputs": [],
   "source": [
    "import numpy as np"
   ]
  },
  {
   "cell_type": "code",
   "execution_count": 83,
   "metadata": {},
   "outputs": [
    {
     "data": {
      "text/plain": [
       "5.2"
      ]
     },
     "execution_count": 83,
     "metadata": {},
     "output_type": "execute_result"
    }
   ],
   "source": [
    "np.mean(length)"
   ]
  },
  {
   "cell_type": "code",
   "execution_count": 84,
   "metadata": {},
   "outputs": [
    {
     "data": {
      "text/plain": [
       "4.0"
      ]
     },
     "execution_count": 84,
     "metadata": {},
     "output_type": "execute_result"
    }
   ],
   "source": [
    "np.median(length)"
   ]
  },
  {
   "cell_type": "code",
   "execution_count": 85,
   "metadata": {},
   "outputs": [
    {
     "data": {
      "text/plain": [
       "3"
      ]
     },
     "execution_count": 85,
     "metadata": {},
     "output_type": "execute_result"
    }
   ],
   "source": [
    "np.min(length)"
   ]
  },
  {
   "cell_type": "code",
   "execution_count": 86,
   "metadata": {},
   "outputs": [
    {
     "data": {
      "text/plain": [
       "9"
      ]
     },
     "execution_count": 86,
     "metadata": {},
     "output_type": "execute_result"
    }
   ],
   "source": [
    "np.max(length)"
   ]
  },
  {
   "cell_type": "markdown",
   "metadata": {},
   "source": [
    "### training the model\n",
    "https://radimrehurek.com/gensim/models/word2vec.html"
   ]
  },
  {
   "cell_type": "code",
   "execution_count": 4,
   "metadata": {
    "colab": {
     "base_uri": "https://localhost:8080/"
    },
    "executionInfo": {
     "elapsed": 975,
     "status": "ok",
     "timestamp": 1617962618323,
     "user": {
      "displayName": "Deepanshi Dhingra",
      "photoUrl": "",
      "userId": "04365067049605314564"
     },
     "user_tz": -330
    },
    "id": "CzBCPYZ3aOgj",
    "outputId": "ee482ed4-45d1-451a-e5e2-3b7157fd28a8"
   },
   "outputs": [],
   "source": [
    "\n",
    "skipgram = Word2Vec(sentences, vector_size = 50, window = 3, min_count=1,sg = 1,epochs=5)\n",
    "# vector_size : int, optional\n",
    "#     Dimensionality of the word vectors.\n",
    "# window : int, optional\n",
    "#     Maximum distance between the current and predicted word within a sentence.\n",
    "# min_count=1 -> Minimium frequency count of words. \n",
    "#                The model would ignore words that do not satisfy the min_count.\n",
    "#                Extremely infrequent words are usually unimportant. (default 5)\n",
    "# workers -> How many threads to use behind the scenes? (default 3) \n",
    "# sg -> (default 0 or CBOW) The training algorithm, either CBOW (0)     \n",
    "#                           or skip gram (1)."
   ]
  },
  {
   "cell_type": "code",
   "execution_count": 6,
   "metadata": {},
   "outputs": [],
   "source": [
    "# distribution\n",
    "Word2Vec?"
   ]
  },
  {
   "cell_type": "code",
   "execution_count": 7,
   "metadata": {},
   "outputs": [
    {
     "name": "stdout",
     "output_type": "stream",
     "text": [
      "{'nlp': 0, 'I': 1, 'future': 2, 'love': 3, 'will': 4, 'learn': 5, 'in': 6, '2': 7, 'months': 8, 'is': 9, 'learning': 10, 'machine': 11, 'time': 12, 'and': 13, 'solves': 14, 'lot': 15, 'of': 16, 'industry': 17, 'problems': 18, 'uses': 19, 'saves': 20}\n"
     ]
    }
   ],
   "source": [
    "print(skipgram.wv.key_to_index)"
   ]
  },
  {
   "cell_type": "markdown",
   "metadata": {},
   "source": [
    "### access vector for one word"
   ]
  },
  {
   "cell_type": "code",
   "execution_count": 8,
   "metadata": {},
   "outputs": [
    {
     "name": "stdout",
     "output_type": "stream",
     "text": [
      "[-1.0724545e-03  4.7286032e-04  1.0206699e-02  1.8018546e-02\n",
      " -1.8605899e-02 -1.4233618e-02  1.2917743e-02  1.7945977e-02\n",
      " -1.0030856e-02 -7.5267460e-03  1.4761009e-02 -3.0669451e-03\n",
      " -9.0732286e-03  1.3108101e-02 -9.7203208e-03 -3.6320353e-03\n",
      "  5.7531595e-03  1.9837476e-03 -1.6570430e-02 -1.8897638e-02\n",
      "  1.4623532e-02  1.0140524e-02  1.3515387e-02  1.5257311e-03\n",
      "  1.2701779e-02 -6.8107317e-03 -1.8928051e-03  1.1537147e-02\n",
      " -1.5043277e-02 -7.8722099e-03 -1.5023164e-02 -1.8600845e-03\n",
      "  1.9076237e-02 -1.4638334e-02 -4.6675396e-03 -3.8754845e-03\n",
      "  1.6154870e-02 -1.1861792e-02  9.0322494e-05 -9.5074698e-03\n",
      " -1.9207101e-02  1.0014586e-02 -1.7519174e-02 -8.7836506e-03\n",
      " -7.0199967e-05 -5.9236528e-04 -1.5322480e-02  1.9229483e-02\n",
      "  9.9641131e-03  1.8466286e-02]\n"
     ]
    }
   ],
   "source": [
    "\n",
    "print(skipgram.wv['nlp'])  # get numpy vector of a word\n",
    "\n",
    "# Since our vector size parameter was 50, the model \n",
    "# gives a vector of size 50 for each word."
   ]
  },
  {
   "cell_type": "markdown",
   "metadata": {},
   "source": [
    "### Similar to a word"
   ]
  },
  {
   "cell_type": "code",
   "execution_count": 9,
   "metadata": {},
   "outputs": [
    {
     "data": {
      "text/plain": [
       "[('machine', 0.5295379757881165), ('nlp', 0.21067389845848083)]"
      ]
     },
     "execution_count": 9,
     "metadata": {},
     "output_type": "execute_result"
    }
   ],
   "source": [
    "skipgram.wv.most_similar('solves', topn=2)"
   ]
  },
  {
   "cell_type": "markdown",
   "metadata": {},
   "source": [
    "### Saving a model"
   ]
  },
  {
   "cell_type": "code",
   "execution_count": 10,
   "metadata": {},
   "outputs": [],
   "source": [
    "skipgram.save(\"skipgram.model\")"
   ]
  },
  {
   "cell_type": "markdown",
   "metadata": {},
   "source": [
    "### Reloading the model"
   ]
  },
  {
   "cell_type": "code",
   "execution_count": 11,
   "metadata": {},
   "outputs": [
    {
     "data": {
      "text/plain": [
       "[('and', 0.30681750178337097), ('industry', 0.27047693729400635)]"
      ]
     },
     "execution_count": 11,
     "metadata": {},
     "output_type": "execute_result"
    }
   ],
   "source": [
    "model = Word2Vec.load(\"skipgram.model\")\n",
    "model.wv.most_similar('learn', topn=2)"
   ]
  },
  {
   "cell_type": "code",
   "execution_count": 12,
   "metadata": {},
   "outputs": [
    {
     "data": {
      "text/plain": [
       "[('learn', 0.27047690749168396), ('in', 0.20483370125293732)]"
      ]
     },
     "execution_count": 12,
     "metadata": {},
     "output_type": "execute_result"
    }
   ],
   "source": [
    "model.wv.most_similar('industry', topn=2)"
   ]
  },
  {
   "cell_type": "code",
   "execution_count": 13,
   "metadata": {},
   "outputs": [
    {
     "data": {
      "text/plain": [
       "[('solves', 0.5295379757881165), ('of', 0.2258928269147873)]"
      ]
     },
     "execution_count": 13,
     "metadata": {},
     "output_type": "execute_result"
    }
   ],
   "source": [
    "model.wv.most_similar('machine', topn=2)"
   ]
  },
  {
   "cell_type": "markdown",
   "metadata": {},
   "source": [
    "#### Training an actual corpus"
   ]
  },
  {
   "cell_type": "markdown",
   "metadata": {},
   "source": [
    "#### TASK\n"
   ]
  },
  {
   "cell_type": "code",
   "execution_count": 14,
   "metadata": {},
   "outputs": [],
   "source": [
    "documents = [\n",
    "    \"Human machine interface, for lab abc& computer applications\",\n",
    "    \"A survey of user opinion of computer system response time\",\n",
    "    \"The EPS user interface management system\",\n",
    "    \"System and human system engineering testing of EPS\",\n",
    "    \"Relation of user perceived response time to error measurement\",\n",
    "    \"The generation of random binary unordered trees\",\n",
    "    \"The intersection graph of paths in trees?\",\n",
    "    \"Graph minors IV Widths of trees and well. quasi ordering\",\n",
    "    \"Graph minors A survey\",\n",
    "]\n",
    "\n"
   ]
  },
  {
   "cell_type": "markdown",
   "metadata": {},
   "source": [
    "### Activity"
   ]
  },
  {
   "cell_type": "code",
   "execution_count": 15,
   "metadata": {},
   "outputs": [],
   "source": [
    "# cleaning the texts\n",
    "\n",
    "# remove common words and tokenize\n",
    "\n",
    "# remove words that appear only once"
   ]
  },
  {
   "cell_type": "markdown",
   "metadata": {},
   "source": [
    "### Activity- Solution"
   ]
  },
  {
   "cell_type": "code",
   "execution_count": 16,
   "metadata": {},
   "outputs": [
    {
     "name": "stdout",
     "output_type": "stream",
     "text": [
      "[['human', 'interface', 'computer'],\n",
      " ['survey', 'user', 'computer', 'system', 'response', 'time'],\n",
      " ['eps', 'user', 'interface', 'system'],\n",
      " ['system', 'human', 'system', 'eps'],\n",
      " ['user', 'response', 'time'],\n",
      " ['trees'],\n",
      " ['graph', 'trees'],\n",
      " ['graph', 'minors', 'trees'],\n",
      " ['graph', 'minors', 'survey']]\n"
     ]
    }
   ],
   "source": [
    "from pprint import pprint  # pretty-printer\n",
    "from collections import defaultdict\n",
    "import re\n",
    "\n",
    "#Get the character set\n",
    "characters=set()\n",
    "for sent in documents:\n",
    "    for word in sent.split():\n",
    "        for char in word:\n",
    "            characters.add(char.lower())\n",
    "            \n",
    "# cleaning the texts\n",
    "\n",
    "documents_clean=[]\n",
    "\n",
    "for sent in documents:\n",
    "#     print(sent)\n",
    "    sent=re.sub(\"&\",\"\",sent)\n",
    "    sent=re.sub(\",\",\"\",sent)\n",
    "    sent=re.sub(\"\\?\",\"\",sent)\n",
    "    sent=re.sub(\"\\.\",\"\",sent)\n",
    "#     print(sent)\n",
    "    documents_clean.append(sent)\n",
    "\n",
    "# remove common words and tokenize\n",
    "stoplist = set('for a of the and to in'.split())\n",
    "texts = [\n",
    "    [word for word in document.lower().split() if word not in stoplist]\n",
    "    for document in documents_clean\n",
    "]\n",
    "\n",
    "# remove words that appear only once\n",
    "frequency = defaultdict(int)\n",
    "for text in texts:\n",
    "    for token in text:\n",
    "        frequency[token] += 1\n",
    "\n",
    "texts = [\n",
    "    [token for token in text if frequency[token] > 1]\n",
    "    for text in texts\n",
    "]\n",
    "\n",
    "pprint(texts)\n"
   ]
  },
  {
   "cell_type": "code",
   "execution_count": 17,
   "metadata": {},
   "outputs": [],
   "source": [
    "skipgram = Word2Vec(texts, vector_size = 50, window = 3, min_count=1,sg = 1,epochs=9)"
   ]
  },
  {
   "cell_type": "code",
   "execution_count": 18,
   "metadata": {},
   "outputs": [
    {
     "name": "stdout",
     "output_type": "stream",
     "text": [
      "{'system': 0, 'graph': 1, 'trees': 2, 'user': 3, 'minors': 4, 'eps': 5, 'time': 6, 'response': 7, 'survey': 8, 'computer': 9, 'interface': 10, 'human': 11}\n"
     ]
    }
   ],
   "source": [
    "print(skipgram.wv.key_to_index)"
   ]
  },
  {
   "cell_type": "code",
   "execution_count": 19,
   "metadata": {},
   "outputs": [
    {
     "name": "stdout",
     "output_type": "stream",
     "text": [
      "[('eps', 0.22442302107810974), ('system', 0.09984554350376129), ('time', 0.0899285227060318), ('human', 0.05837363749742508), ('graph', 0.0013571090530604124), ('response', -0.0013636762741953135), ('trees', -0.03727481886744499), ('minors', -0.06371431052684784), ('interface', -0.11219381541013718), ('user', -0.12241578102111816)]\n"
     ]
    }
   ],
   "source": [
    "vector = skipgram.wv['computer']  # get numpy vector of a word\n",
    "sims = skipgram.wv.most_similar('computer', topn=10)  # get other similar words\n",
    "print(sims)\n",
    "#Try with more number of epochs"
   ]
  },
  {
   "cell_type": "code",
   "execution_count": 20,
   "metadata": {},
   "outputs": [
    {
     "ename": "KeyError",
     "evalue": "\"Key 'aayush' not present\"",
     "output_type": "error",
     "traceback": [
      "\u001b[1;31m---------------------------------------------------------------------------\u001b[0m",
      "\u001b[1;31mKeyError\u001b[0m                                  Traceback (most recent call last)",
      "\u001b[1;32m<ipython-input-20-c22b7123c132>\u001b[0m in \u001b[0;36m<module>\u001b[1;34m\u001b[0m\n\u001b[1;32m----> 1\u001b[1;33m \u001b[0mskipgram\u001b[0m\u001b[1;33m.\u001b[0m\u001b[0mwv\u001b[0m\u001b[1;33m[\u001b[0m\u001b[1;34m'aayush'\u001b[0m\u001b[1;33m]\u001b[0m\u001b[1;33m\u001b[0m\u001b[1;33m\u001b[0m\u001b[0m\n\u001b[0m",
      "\u001b[1;32m~\\anaconda3\\lib\\site-packages\\gensim\\models\\keyedvectors.py\u001b[0m in \u001b[0;36m__getitem__\u001b[1;34m(self, key_or_keys)\u001b[0m\n\u001b[0;32m    377\u001b[0m         \"\"\"\n\u001b[0;32m    378\u001b[0m         \u001b[1;32mif\u001b[0m \u001b[0misinstance\u001b[0m\u001b[1;33m(\u001b[0m\u001b[0mkey_or_keys\u001b[0m\u001b[1;33m,\u001b[0m \u001b[0mKEY_TYPES\u001b[0m\u001b[1;33m)\u001b[0m\u001b[1;33m:\u001b[0m\u001b[1;33m\u001b[0m\u001b[1;33m\u001b[0m\u001b[0m\n\u001b[1;32m--> 379\u001b[1;33m             \u001b[1;32mreturn\u001b[0m \u001b[0mself\u001b[0m\u001b[1;33m.\u001b[0m\u001b[0mget_vector\u001b[0m\u001b[1;33m(\u001b[0m\u001b[0mkey_or_keys\u001b[0m\u001b[1;33m)\u001b[0m\u001b[1;33m\u001b[0m\u001b[1;33m\u001b[0m\u001b[0m\n\u001b[0m\u001b[0;32m    380\u001b[0m \u001b[1;33m\u001b[0m\u001b[0m\n\u001b[0;32m    381\u001b[0m         \u001b[1;32mreturn\u001b[0m \u001b[0mvstack\u001b[0m\u001b[1;33m(\u001b[0m\u001b[1;33m[\u001b[0m\u001b[0mself\u001b[0m\u001b[1;33m.\u001b[0m\u001b[0mget_vector\u001b[0m\u001b[1;33m(\u001b[0m\u001b[0mkey\u001b[0m\u001b[1;33m)\u001b[0m \u001b[1;32mfor\u001b[0m \u001b[0mkey\u001b[0m \u001b[1;32min\u001b[0m \u001b[0mkey_or_keys\u001b[0m\u001b[1;33m]\u001b[0m\u001b[1;33m)\u001b[0m\u001b[1;33m\u001b[0m\u001b[1;33m\u001b[0m\u001b[0m\n",
      "\u001b[1;32m~\\anaconda3\\lib\\site-packages\\gensim\\models\\keyedvectors.py\u001b[0m in \u001b[0;36mget_vector\u001b[1;34m(self, key, norm)\u001b[0m\n\u001b[0;32m    420\u001b[0m \u001b[1;33m\u001b[0m\u001b[0m\n\u001b[0;32m    421\u001b[0m         \"\"\"\n\u001b[1;32m--> 422\u001b[1;33m         \u001b[0mindex\u001b[0m \u001b[1;33m=\u001b[0m \u001b[0mself\u001b[0m\u001b[1;33m.\u001b[0m\u001b[0mget_index\u001b[0m\u001b[1;33m(\u001b[0m\u001b[0mkey\u001b[0m\u001b[1;33m)\u001b[0m\u001b[1;33m\u001b[0m\u001b[1;33m\u001b[0m\u001b[0m\n\u001b[0m\u001b[0;32m    423\u001b[0m         \u001b[1;32mif\u001b[0m \u001b[0mnorm\u001b[0m\u001b[1;33m:\u001b[0m\u001b[1;33m\u001b[0m\u001b[1;33m\u001b[0m\u001b[0m\n\u001b[0;32m    424\u001b[0m             \u001b[0mself\u001b[0m\u001b[1;33m.\u001b[0m\u001b[0mfill_norms\u001b[0m\u001b[1;33m(\u001b[0m\u001b[1;33m)\u001b[0m\u001b[1;33m\u001b[0m\u001b[1;33m\u001b[0m\u001b[0m\n",
      "\u001b[1;32m~\\anaconda3\\lib\\site-packages\\gensim\\models\\keyedvectors.py\u001b[0m in \u001b[0;36mget_index\u001b[1;34m(self, key, default)\u001b[0m\n\u001b[0;32m    394\u001b[0m             \u001b[1;32mreturn\u001b[0m \u001b[0mdefault\u001b[0m\u001b[1;33m\u001b[0m\u001b[1;33m\u001b[0m\u001b[0m\n\u001b[0;32m    395\u001b[0m         \u001b[1;32melse\u001b[0m\u001b[1;33m:\u001b[0m\u001b[1;33m\u001b[0m\u001b[1;33m\u001b[0m\u001b[0m\n\u001b[1;32m--> 396\u001b[1;33m             \u001b[1;32mraise\u001b[0m \u001b[0mKeyError\u001b[0m\u001b[1;33m(\u001b[0m\u001b[1;34mf\"Key '{key}' not present\"\u001b[0m\u001b[1;33m)\u001b[0m\u001b[1;33m\u001b[0m\u001b[1;33m\u001b[0m\u001b[0m\n\u001b[0m\u001b[0;32m    397\u001b[0m \u001b[1;33m\u001b[0m\u001b[0m\n\u001b[0;32m    398\u001b[0m     \u001b[1;32mdef\u001b[0m \u001b[0mget_vector\u001b[0m\u001b[1;33m(\u001b[0m\u001b[0mself\u001b[0m\u001b[1;33m,\u001b[0m \u001b[0mkey\u001b[0m\u001b[1;33m,\u001b[0m \u001b[0mnorm\u001b[0m\u001b[1;33m=\u001b[0m\u001b[1;32mFalse\u001b[0m\u001b[1;33m)\u001b[0m\u001b[1;33m:\u001b[0m\u001b[1;33m\u001b[0m\u001b[1;33m\u001b[0m\u001b[0m\n",
      "\u001b[1;31mKeyError\u001b[0m: \"Key 'aayush' not present\""
     ]
    }
   ],
   "source": [
    " skipgram.wv['aayush']"
   ]
  },
  {
   "cell_type": "markdown",
   "metadata": {
    "id": "wrTBufNtaOgs"
   },
   "source": [
    "**Note** : We get an error saying the word doesn’t exist because this word was not there in our input training data. This is the reason we need to train the algorithm on as much data possible so that we do not miss out on words.\n"
   ]
  },
  {
   "cell_type": "markdown",
   "metadata": {
    "id": "FICEBdluaOgs"
   },
   "source": [
    "Continuous Bag of Words (CBOW)\n",
    "--\n",
    "Now let’s see how to build CBOW model. (Its very similar to SkipGram model)"
   ]
  },
  {
   "cell_type": "code",
   "execution_count": 21,
   "metadata": {
    "executionInfo": {
     "elapsed": 1095,
     "status": "ok",
     "timestamp": 1617962635639,
     "user": {
      "displayName": "Deepanshi Dhingra",
      "photoUrl": "",
      "userId": "04365067049605314564"
     },
     "user_tz": -330
    },
    "id": "0Lz6bOpqaOgt"
   },
   "outputs": [],
   "source": [
    "#import library\n",
    "from gensim.models import Word2Vec\n",
    "from sklearn.decomposition import PCA\n",
    "from matplotlib import pyplot\n",
    "\n",
    "#Example sentences\n",
    "sentences = [['I', 'love', 'nlp'],\n",
    "['I', 'will', 'learn', 'nlp', 'in', '2','months'],\n",
    "['nlp', 'is', 'future'],\n",
    "[ 'nlp', 'saves', 'time', 'and', 'solves',\n",
    "'lot', 'of', 'industry', 'problems'],\n",
    "['nlp', 'uses', 'machine', 'learning']]"
   ]
  },
  {
   "cell_type": "code",
   "execution_count": 22,
   "metadata": {
    "colab": {
     "base_uri": "https://localhost:8080/"
    },
    "executionInfo": {
     "elapsed": 1088,
     "status": "ok",
     "timestamp": 1617962637936,
     "user": {
      "displayName": "Deepanshi Dhingra",
      "photoUrl": "",
      "userId": "04365067049605314564"
     },
     "user_tz": -330
    },
    "id": "YBRX5kEIaOgx",
    "outputId": "e41b60f1-59cf-4ad4-a9b3-ae24e678d82e"
   },
   "outputs": [
    {
     "name": "stdout",
     "output_type": "stream",
     "text": [
      "[-4.1892752e-04  1.8471107e-04  3.9869919e-03  7.0384946e-03\n",
      " -7.2679296e-03 -5.5600069e-03  5.0459933e-03  7.0101470e-03\n",
      " -3.9183032e-03 -2.9401351e-03  5.7660192e-03 -1.1980254e-03\n",
      " -3.5442300e-03  5.1203519e-03 -3.7970003e-03 -1.4187638e-03\n",
      "  2.2473279e-03  7.7490136e-04 -6.4728241e-03 -7.3818900e-03\n",
      "  5.7123173e-03  3.9611422e-03  5.2794479e-03  5.9598871e-04\n",
      "  4.9616322e-03 -2.6604421e-03 -7.3937699e-04  4.5066979e-03\n",
      " -5.8762804e-03 -3.0750819e-03 -5.8684237e-03 -7.2659552e-04\n",
      "  7.4516553e-03 -5.7180990e-03 -1.8232577e-03 -1.5138611e-03\n",
      "  6.3104965e-03 -4.6335123e-03  3.5282224e-05 -3.7138555e-03\n",
      " -7.5027738e-03  3.9119478e-03 -6.8434272e-03 -3.4311134e-03\n",
      " -2.7421862e-05 -2.3139268e-04 -5.9853438e-03  7.5115170e-03\n",
      "  3.8922317e-03  7.2133932e-03 -6.3733738e-03  3.5123415e-03\n",
      " -3.2320917e-03  6.4416789e-04  6.6395458e-03 -3.4860764e-03\n",
      "  3.5292972e-03 -5.3023137e-03 -2.7722567e-03  7.3425844e-03\n",
      " -1.2325421e-03  2.5107153e-04 -3.2348670e-03 -6.0021002e-03\n",
      " -1.1781324e-03  1.9295271e-03 -6.9377199e-04  4.3231733e-03\n",
      " -2.1429509e-03  1.7656758e-03  4.2623393e-03  6.5202750e-03\n",
      " -1.1357348e-03 -7.1938615e-03  3.4144931e-03  4.4670701e-04\n",
      "  5.8139898e-03 -6.3537806e-04 -2.0612609e-03 -6.8382882e-03\n",
      " -6.6918507e-04  2.2082515e-03  4.2198654e-03  5.5098869e-03\n",
      " -4.4555645e-03  1.4522020e-03  4.7569238e-03 -3.7484784e-03\n",
      " -2.4275482e-03  5.3106472e-03  1.2745894e-03  1.4837272e-04\n",
      "  2.7137790e-03  1.7013773e-04  7.5147077e-03  3.9535966e-03\n",
      " -6.9667120e-03 -5.5012200e-03  7.0426241e-04  4.9941670e-03\n",
      " -6.7341309e-03  2.8638579e-03  4.0545966e-03  4.4858884e-03\n",
      "  5.8335289e-03 -4.8184972e-03  8.6376071e-04  4.7244392e-03\n",
      " -2.2187904e-03 -4.8230644e-03 -3.2048672e-04 -6.5382421e-03\n",
      " -4.3750107e-03  5.5504199e-03  2.6191715e-03  5.6450535e-03\n",
      "  5.3126924e-03  5.8833919e-03 -2.9602777e-03 -4.3891184e-04\n",
      "  1.8346682e-03 -3.5304949e-03  6.5536965e-03 -7.7016912e-03\n",
      "  5.2848756e-03  2.2768881e-03 -3.8537756e-03  3.4360830e-03]\n"
     ]
    }
   ],
   "source": [
    "# training the model\n",
    "cbow = Word2Vec(sentences, vector_size =128, window = 3, min_count=1,sg = 0)\n",
    "# size=50 -> means size of vector to represent each token or word\n",
    "# window=1 -> The maximum distance between the target word and its neighboring word.\n",
    "# min_count=1 -> Minimium frequency count of words. \n",
    "#                The model would ignore words that do not satisfy the min_count.\n",
    "#                Extremely infrequent words are usually unimportant.\n",
    "# workers -> How many threads to use behind the scenes?\n",
    "# as sg=0 i.e no skipgram , hence default CBOW\n",
    "\n",
    "# access vector for one word\n",
    "print(cbow.wv['nlp'])"
   ]
  },
  {
   "cell_type": "markdown",
   "metadata": {
    "id": "9egvbeVOaOg1"
   },
   "source": [
    "Important Observation \n",
    "--\n",
    "To train these models, it requires a huge amount of computing\n",
    "power. So, let us go ahead and use Google’s pre-trained model, which has\n",
    "been trained with over 100 billion words.\n",
    "\n",
    "Download the model from the below path and keep it in your local\n",
    "storage:\n",
    "https://drive.google.com/file/d/0B7XkCwpI5KDYNlNUTTlSS21pQmM/edit\n",
    "\n",
    "or **better off from this link** :\n",
    "\n",
    "https://s3.amazonaws.com/dl4j-distribution/GoogleNews-vectors-negative300.bin.gz\n",
    "\n",
    "Note **if running on Jupyter NB** : The Google Db is soo large that we would get ValueError, like this : ValueError: array is too big; `arr.size * arr.dtype.itemsize` is larger than the maximum possible size.\n"
   ]
  },
  {
   "cell_type": "code",
   "execution_count": 24,
   "metadata": {
    "executionInfo": {
     "elapsed": 144186,
     "status": "ok",
     "timestamp": 1617962783893,
     "user": {
      "displayName": "Deepanshi Dhingra",
      "photoUrl": "",
      "userId": "04365067049605314564"
     },
     "user_tz": -330
    },
    "id": "DtdVkgeHaOg2"
   },
   "outputs": [],
   "source": [
    "import warnings\n",
    "warnings.filterwarnings(\"ignore\", category=UserWarning)\n",
    "\n",
    "# import gensim package\n",
    "import gensim\n",
    "\n",
    "# load the saved model\n",
    "model = gensim.models.KeyedVectors.load_word2vec_format('~/Downloads/GoogleNews-vectors-negative300.bin.gz', binary=True)\n",
    "# model = gensim.models.KeyedVectors.load_word2vec_format('https://s3.amazonaws.com/dl4j-distribution/GoogleNews-vectors-negative300.bin.gz', binary=True)"
   ]
  },
  {
   "cell_type": "code",
   "execution_count": 25,
   "metadata": {
    "colab": {
     "base_uri": "https://localhost:8080/"
    },
    "executionInfo": {
     "elapsed": 1185,
     "status": "ok",
     "timestamp": 1617962808754,
     "user": {
      "displayName": "Deepanshi Dhingra",
      "photoUrl": "",
      "userId": "04365067049605314564"
     },
     "user_tz": -330
    },
    "id": "Jifu4g93aOg6",
    "outputId": "34219f78-0dc9-4390-8ee2-c69a1956efe8"
   },
   "outputs": [
    {
     "name": "stdout",
     "output_type": "stream",
     "text": [
      "0.3030219\n",
      "0.057204388\n"
     ]
    }
   ],
   "source": [
    "# lets check similarity\n",
    "print (model.similarity('This', 'is'))\n",
    "\n",
    "#Lets check one more.\n",
    "print (model.similarity('post', 'book'))\n",
    "\n",
    "#print(model.similarity('seed', 'need'))"
   ]
  },
  {
   "cell_type": "markdown",
   "metadata": {
    "id": "pS5_M8NZaOg9"
   },
   "source": [
    "“`This`” and “`is`” have a good amount of similarity, but the similarity\n",
    "between the words “`post`” and “`book`” is poor. For any given set of words, it uses the vectors of both the words and calculates the similarity between them."
   ]
  },
  {
   "cell_type": "code",
   "execution_count": 26,
   "metadata": {
    "colab": {
     "base_uri": "https://localhost:8080/",
     "height": 89
    },
    "executionInfo": {
     "elapsed": 20450,
     "status": "ok",
     "timestamp": 1617962830389,
     "user": {
      "displayName": "Deepanshi Dhingra",
      "photoUrl": "",
      "userId": "04365067049605314564"
     },
     "user_tz": -330
    },
    "id": "TT3ITyB4aOg-",
    "outputId": "1fd034bf-ec0c-4176-9a68-d2d9ff80d167"
   },
   "outputs": [
    {
     "data": {
      "text/plain": [
       "'cereal'"
      ]
     },
     "execution_count": 26,
     "metadata": {},
     "output_type": "execute_result"
    }
   ],
   "source": [
    "# Finding the odd one out.\n",
    "model.doesnt_match('breakfast cereal dinner lunch'.split())"
   ]
  },
  {
   "cell_type": "markdown",
   "metadata": {
    "id": "-r6RHk1laOhB"
   },
   "source": [
    "Of '`breakfast`’, ‘`cereal`’, ‘`dinner`’ and ‘`lunch`', only **cereal** is the word that is\n",
    "not anywhere related to the remaining 3 words."
   ]
  },
  {
   "cell_type": "code",
   "execution_count": 27,
   "metadata": {
    "colab": {
     "base_uri": "https://localhost:8080/"
    },
    "executionInfo": {
     "elapsed": 1718,
     "status": "ok",
     "timestamp": 1617962836391,
     "user": {
      "displayName": "Deepanshi Dhingra",
      "photoUrl": "",
      "userId": "04365067049605314564"
     },
     "user_tz": -330
    },
    "id": "tbbBJX3kaOhC",
    "outputId": "3c9384d5-80b3-4fc3-f03f-365e1ed38901"
   },
   "outputs": [
    {
     "data": {
      "text/plain": [
       "[('queen', 0.7118193507194519),\n",
       " ('monarch', 0.6189674735069275),\n",
       " ('princess', 0.5902431011199951)]"
      ]
     },
     "execution_count": 27,
     "metadata": {},
     "output_type": "execute_result"
    }
   ],
   "source": [
    "# It is also finding the relations between words.\n",
    "#model.most_similar(positive=['woman', 'king'] , negative=['man'])  # default value of topn is 10\n",
    "\n",
    "# try this too :\n",
    "model.most_similar(positive=['woman', 'king'], negative=['man'], topn=3)"
   ]
  },
  {
   "cell_type": "markdown",
   "metadata": {
    "id": "LRLzCzYOaOhH"
   },
   "source": [
    "<img src=\"https://drive.google.com/uc?id=11Yu1Gj4Rw5BccL6KXnT_rXqYPyJbEUfZ\"/>"
   ]
  },
  {
   "attachments": {
    "Screen%20Shot%202021-04-10%20at%202.37.02%20AM.png": {
     "image/png": "[encoded data removed]"
    }
   },
   "cell_type": "markdown",
   "metadata": {},
   "source": [
    "![Screen%20Shot%202021-04-10%20at%202.37.02%20AM.png](attachment:Screen%20Shot%202021-04-10%20at%202.37.02%20AM.png)"
   ]
  },
  {
   "cell_type": "code",
   "execution_count": 28,
   "metadata": {},
   "outputs": [
    {
     "name": "stdout",
     "output_type": "stream",
     "text": [
      "['fasttext-wiki-news-subwords-300',\n",
      " 'conceptnet-numberbatch-17-06-300',\n",
      " 'word2vec-ruscorpora-300',\n",
      " 'word2vec-google-news-300',\n",
      " 'glove-wiki-gigaword-50',\n",
      " 'glove-wiki-gigaword-100',\n",
      " 'glove-wiki-gigaword-200',\n",
      " 'glove-wiki-gigaword-300',\n",
      " 'glove-twitter-25',\n",
      " 'glove-twitter-50',\n",
      " 'glove-twitter-100',\n",
      " 'glove-twitter-200',\n",
      " '__testing_word2vec-matrix-synopsis']\n"
     ]
    }
   ],
   "source": [
    "import gensim.downloader\n",
    "\n",
    "# Show all available models in gensim-data\n",
    "\n",
    "pprint(list(gensim.downloader.info()['models'].keys()))"
   ]
  },
  {
   "cell_type": "code",
   "execution_count": 29,
   "metadata": {},
   "outputs": [
    {
     "name": "stdout",
     "output_type": "stream",
     "text": [
      "[==================================================] 100.0% 104.8/104.8MB downloaded\n"
     ]
    },
    {
     "data": {
      "text/plain": [
       "[('facebook', 0.948005199432373),\n",
       " ('tweet', 0.9403423070907593),\n",
       " ('fb', 0.9342359900474548),\n",
       " ('instagram', 0.9104822874069214),\n",
       " ('chat', 0.8964964747428894),\n",
       " ('hashtag', 0.8885936737060547),\n",
       " ('tweets', 0.8878158330917358),\n",
       " ('tl', 0.8778460621833801),\n",
       " ('link', 0.877821147441864),\n",
       " ('internet', 0.8753897547721863)]"
      ]
     },
     "execution_count": 29,
     "metadata": {},
     "output_type": "execute_result"
    }
   ],
   "source": [
    "# Download the \"glove-twitter-25\" embeddings\n",
    "\n",
    "glove_vectors = gensim.downloader.load('glove-twitter-25')\n",
    "\n",
    "# Use the downloaded vectors as usual:\n",
    "\n",
    "glove_vectors.most_similar('twitter')\n"
   ]
  },
  {
   "cell_type": "markdown",
   "metadata": {
    "id": "oT1rvQhRaOhI"
   },
   "source": [
    "Implementing <font color='green'>fastText</font>\n",
    "--\n",
    "**fastText** is another deep learning framework developed by Facebook to capture context and meaning.\n",
    "\n",
    "Problem\n",
    "--\n",
    "How to implement fastText in Python.\n",
    "\n",
    "Solution\n",
    "--\n",
    "fastText is the improvised version of word2vec. word2vec basically\n",
    "considers words to build the representation. But fastText takes each\n",
    "character while computing the representation of the word."
   ]
  },
  {
   "cell_type": "code",
   "execution_count": 30,
   "metadata": {
    "colab": {
     "base_uri": "https://localhost:8080/"
    },
    "executionInfo": {
     "elapsed": 1231,
     "status": "ok",
     "timestamp": 1617962840114,
     "user": {
      "displayName": "Deepanshi Dhingra",
      "photoUrl": "",
      "userId": "04365067049605314564"
     },
     "user_tz": -330
    },
    "id": "YNtIJNqnaOhI",
    "outputId": "cf749bda-73db-4123-8ad9-dcf85b8fb8eb"
   },
   "outputs": [
    {
     "name": "stdout",
     "output_type": "stream",
     "text": [
      "[-3.56516754e-03  9.36979952e-04 -2.03097169e-03  1.33722881e-03\n",
      "  1.06699055e-03 -1.30306487e-03  4.57685004e-04 -3.48509930e-04\n",
      "  3.01728141e-04 -3.34166922e-04  2.30329041e-03 -2.13524234e-03\n",
      " -3.56490375e-03 -2.04235571e-03  1.60255615e-04  3.43305478e-03\n",
      "  1.62065451e-04 -1.77059078e-03  2.40071415e-04 -2.91091506e-03\n",
      "  4.31941869e-03 -2.14018277e-04  9.19649494e-04 -1.96734699e-03\n",
      "  4.28779167e-04  1.97542226e-03 -5.55099454e-04 -7.46006321e-04\n",
      " -1.62504090e-04  4.60968731e-04 -4.12720675e-03 -3.73447617e-03\n",
      "  7.81681912e-04  6.34804426e-04 -2.78657838e-03  1.03972619e-03\n",
      "  7.23125529e-04  4.00802761e-04 -1.03636156e-03  6.72084687e-04\n",
      "  5.93888923e-04  1.43508124e-03 -9.17497440e-04  1.16201758e-03\n",
      " -4.63208836e-03 -7.46966631e-04 -1.83029589e-03 -1.88780934e-04\n",
      "  5.48301614e-04 -1.03316433e-03 -9.76110809e-04 -6.60458929e-04\n",
      " -1.04061491e-03  4.36936598e-03  3.69644910e-03 -2.38408986e-03\n",
      "  1.00042357e-03  1.67955106e-04 -4.55268146e-03  8.84661626e-04\n",
      "  2.27861642e-03 -1.24675804e-04 -2.68478791e-04  2.65137339e-03\n",
      " -1.53585873e-03 -4.61348507e-04  1.18419826e-04  3.45973531e-03\n",
      "  3.72177659e-04  2.20079953e-03 -1.25450804e-03  1.39679119e-03\n",
      "  2.88764422e-05 -3.92355118e-03  3.29094240e-04 -6.11330033e-05\n",
      "  2.99198087e-03 -1.43614120e-03 -1.91965909e-03 -1.68010872e-03\n",
      " -1.45945908e-03 -2.03646661e-04  8.61443696e-04 -2.18205806e-03\n",
      " -1.78998627e-03  1.00262009e-03  2.67930352e-03  5.66209259e-04\n",
      " -6.39281468e-04  1.26642489e-03  2.17411667e-04  2.78809923e-03\n",
      "  3.42323259e-03  2.90165422e-03  2.54852115e-03  8.75754122e-05\n",
      " -2.51450250e-03 -2.61668931e-03  2.43903371e-04  5.05924749e-04]\n"
     ]
    }
   ],
   "source": [
    "# Let us see how to build a fastText word embedding.\n",
    "# Import FastText\n",
    "from gensim.models import FastText\n",
    "from sklearn.decomposition import PCA\n",
    "from matplotlib import pyplot\n",
    "\n",
    "#Example sentences\n",
    "sentences = [['I', 'love', 'nlp'],\n",
    "['I', 'will', 'learn', 'nlp', 'in', '2','months'],\n",
    "['nlp', 'is', 'future'],\n",
    "[ 'nlp', 'saves', 'time', 'and', 'solves',\n",
    "'lot', 'of', 'industry', 'problems'],\n",
    "['nlp', 'uses', 'machine', 'learning']]\n",
    "\n",
    "fast = FastText(sentences,window=1, min_count=1, workers=5, min_n=1, max_n=2)\n",
    "# size=10 -> means size of vector to represent each token or word\n",
    "# window=1 -> The maximum distance between the target word and its neighboring word.\n",
    "# min_count=1 -> Minimium frequency count of words. \n",
    "#                The model would ignore words that do not satisfy the min_count.\n",
    "#                Extremely infrequent words are usually unimportant.\n",
    "# workers -> How many threads to use behind the scenes?\n",
    "# min_n=1, max_n=2  -> When finding similarity or analogies like this :\n",
    "# \"Father\" - \"Boy\" + \"Girl\" == \"Mother\"\n",
    "#print(fast.most_similar(['girl', 'father'], ['boy'], topn=3))\n",
    "# [('mother', 0.7996115684509277), ('grandfather', 0.7629683613777161), \n",
    "# ('wife', 0.7478234767913818)]\n",
    "# we want the model to show min 1 and max 2 analogies\n",
    "\n",
    "\n",
    "# vector for word nlp\n",
    "print(fast.wv['nlp'])\n"
   ]
  },
  {
   "cell_type": "code",
   "execution_count": 31,
   "metadata": {
    "colab": {
     "base_uri": "https://localhost:8080/"
    },
    "executionInfo": {
     "elapsed": 1226,
     "status": "ok",
     "timestamp": 1617962842392,
     "user": {
      "displayName": "Deepanshi Dhingra",
      "photoUrl": "",
      "userId": "04365067049605314564"
     },
     "user_tz": -330
    },
    "id": "dyPmRNYn_9tV",
    "outputId": "7bf904ff-4b58-48d3-990e-a4208420ae13"
   },
   "outputs": [
    {
     "name": "stdout",
     "output_type": "stream",
     "text": [
      "[('learn', 0.3527929484844208), ('love', 0.2343597263097763), ('industry', 0.16918526589870453)]\n"
     ]
    }
   ],
   "source": [
    "# Try this \n",
    "print(fast.wv.most_similar(['machine', 'learning'], ['nlp'], topn=3))"
   ]
  },
  {
   "cell_type": "markdown",
   "metadata": {
    "id": "88V9XH1EBHpV"
   },
   "source": [
    "\n",
    "<hr>\n",
    "<br><br>\n",
    "<u><b>Further Resources</b></u> :\n",
    "\n",
    "https://machinelearningmastery.com/prepare-text-data-machine-learning-scikit-learn/\n",
    "\n",
    "https://datascience.stackexchange.com/questions/22250/what-is-the-difference-between-a-hashing-vectorizer"
   ]
  }
 ],
 "metadata": {
  "colab": {
   "collapsed_sections": [],
   "name": "11_Converting_Text_to_Features.ipynb",
   "provenance": []
  },
  "kernelspec": {
   "display_name": "Python 3",
   "language": "python",
   "name": "python3"
  },
  "language_info": {
   "codemirror_mode": {
    "name": "ipython",
    "version": 3
   },
   "file_extension": ".py",
   "mimetype": "text/x-python",
   "name": "python",
   "nbconvert_exporter": "python",
   "pygments_lexer": "ipython3",
   "version": "3.8.3"
  },
  "toc": {
   "base_numbering": 1,
   "nav_menu": {},
   "number_sections": true,
   "sideBar": true,
   "skip_h1_title": false,
   "title_cell": "Table of Contents",
   "title_sidebar": "Contents",
   "toc_cell": false,
   "toc_position": {
    "height": "calc(100% - 180px)",
    "left": "10px",
    "top": "150px",
    "width": "256px"
   },
   "toc_section_display": true,
   "toc_window_display": true
  }
 },
 "nbformat": 4,
 "nbformat_minor": 1
}
